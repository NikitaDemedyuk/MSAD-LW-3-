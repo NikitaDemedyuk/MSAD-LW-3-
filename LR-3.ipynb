{
 "cells": [
  {
   "cell_type": "code",
   "execution_count": 363,
   "id": "a3e48299",
   "metadata": {},
   "outputs": [],
   "source": [
    "import numpy as np\n",
    "import pandas as pd\n",
    "import sklearn as skl\n",
    "\n",
    "import seaborn as sns\n",
    "import matplotlib.pyplot as plt\n",
    "plt.rcParams[\"figure.figsize\"] = (8, 8)\n",
    "sns.set_style(\"darkgrid\")\n",
    "\n",
    "import warnings\n",
    "warnings.filterwarnings(\"ignore\")"
   ]
  },
  {
   "cell_type": "markdown",
   "id": "9e70895d",
   "metadata": {},
   "source": [
    "**Основное задание**"
   ]
  },
  {
   "cell_type": "code",
   "execution_count": 364,
   "id": "af49c165",
   "metadata": {},
   "outputs": [],
   "source": [
    "train_sample_size = 100\n",
    "\n",
    "cov = np.random.rand(3, 3)\n",
    "cov = np.dot(cov, cov.transpose())\n",
    "mean = np.random.rand(3) + 2"
   ]
  },
  {
   "cell_type": "code",
   "execution_count": 365,
   "id": "a994dc56",
   "metadata": {},
   "outputs": [],
   "source": [
    "sample = np.random.multivariate_normal(mean, cov, train_sample_size)"
   ]
  },
  {
   "cell_type": "code",
   "execution_count": 366,
   "id": "77d3407e",
   "metadata": {},
   "outputs": [],
   "source": [
    "test_object = np.random.multivariate_normal(mean, cov, 1)[0]"
   ]
  },
  {
   "cell_type": "code",
   "execution_count": 367,
   "id": "71859e17",
   "metadata": {},
   "outputs": [],
   "source": [
    "train_x = sample[:,[1, 2]]\n",
    "train_y = sample[:,0]"
   ]
  },
  {
   "cell_type": "code",
   "execution_count": 368,
   "id": "e7b69013",
   "metadata": {},
   "outputs": [
    {
     "data": {
      "text/plain": [
       "'Коэффициенты модели: (2.9250243571928656, -1.3945377413643198, 1.637775339589693)'"
      ]
     },
     "execution_count": 368,
     "metadata": {},
     "output_type": "execute_result"
    }
   ],
   "source": [
    "from sklearn.linear_model import LinearRegression\n",
    "\n",
    "reg = LinearRegression()\n",
    "reg.fit(train_x, train_y)\n",
    "f\"Коэффициенты модели: {reg.intercept_, *reg.coef_}\""
   ]
  },
  {
   "cell_type": "code",
   "execution_count": 369,
   "id": "4e8c5911",
   "metadata": {},
   "outputs": [
    {
     "name": "stdout",
     "output_type": "stream",
     "text": [
      "МО остатка = -3.61932706027801e-16\n",
      "Дисперсия остатка = 0.09034429020287263\n"
     ]
    }
   ],
   "source": [
    "residuals = reg.predict(train_x) - train_y\n",
    "print(\"МО остатка =\", residuals.mean())\n",
    "print(\"Дисперсия остатка =\", residuals.var())"
   ]
  },
  {
   "cell_type": "markdown",
   "id": "e7149434",
   "metadata": {},
   "source": [
    "Для отдельно сохраненного вектора, по компонентам x2 и x3, используя модель линейной\n",
    "регрессии, спрогнозировать компоненту x1. Найти квадрат разности точного значения этой\n",
    "компоненты и прогноза (квадрат ошибки)."
   ]
  },
  {
   "cell_type": "code",
   "execution_count": 370,
   "id": "b6cec568",
   "metadata": {},
   "outputs": [
    {
     "data": {
      "text/plain": [
       "array([0.06979165])"
      ]
     },
     "execution_count": 370,
     "metadata": {},
     "output_type": "execute_result"
    }
   ],
   "source": [
    "(reg.predict(np.array([test_object[1], test_object[2]]).reshape(1, -1)) - test_object[0]) ** 2"
   ]
  },
  {
   "cell_type": "markdown",
   "id": "1301b10c",
   "metadata": {},
   "source": [
    "Повторить шаги 1-4 M = 100 раз. На каждой итерации на первом шаге использовать одни и те\n",
    "же параметры. Насколько «хорошо» прогнозируется значение x1. Усреднить квадрат ошибки\n",
    "(получим среднеквадратичную ошибку прогнозирования). Сделать выводы."
   ]
  },
  {
   "cell_type": "code",
   "execution_count": 371,
   "id": "426e5c5e",
   "metadata": {},
   "outputs": [],
   "source": [
    "def mean_sqr_error(sample, test_object, model):\n",
    "    total_sqr_error = 0\n",
    "    for i in range(100):\n",
    "        test_ind = int(np.random.rand() * 99)\n",
    "        cpy = np.array(test_object)\n",
    "        test_object = np.array(sample[test_ind])\n",
    "        sample[test_ind] = cpy\n",
    "        model.fit(sample[:,[1, 2]], sample[:,0])\n",
    "        total_sqr_error += (model.predict(np.array([test_object[1], test_object[2]]).reshape(1, -1)) - test_object[0]) ** 2\n",
    "    return total_sqr_error / 100"
   ]
  },
  {
   "cell_type": "code",
   "execution_count": 372,
   "id": "0902a4a9",
   "metadata": {},
   "outputs": [
    {
     "data": {
      "text/plain": [
       "array([0.07326412])"
      ]
     },
     "execution_count": 372,
     "metadata": {},
     "output_type": "execute_result"
    }
   ],
   "source": [
    "mean_sqr_error(sample, test_object, reg)"
   ]
  },
  {
   "cell_type": "markdown",
   "id": "680d57fe",
   "metadata": {},
   "source": [
    "**Дополнительные задания**\n",
    "\n",
    "Разное\n",
    "\n",
    "**(+1 балл) Найти истинные коэффициенты регрессии модели из пункта 3, сравнить\n",
    "полученные результаты.**"
   ]
  },
  {
   "cell_type": "code",
   "execution_count": 373,
   "id": "9506a1ec",
   "metadata": {},
   "outputs": [
    {
     "data": {
      "text/plain": [
       "array([ 2.8975292 , -1.36926971,  1.61778592])"
      ]
     },
     "execution_count": 373,
     "metadata": {},
     "output_type": "execute_result"
    }
   ],
   "source": [
    "expanded_train_x = np.hstack((np.ones(train_sample_size).reshape((train_sample_size, 1)), sample[:,[1, 2]]))\n",
    "train_y = sample[:,0]\n",
    "np.linalg.inv(expanded_train_x.transpose() @ expanded_train_x) @ expanded_train_x.transpose() @ train_y"
   ]
  },
  {
   "cell_type": "markdown",
   "id": "e7fbf8c3",
   "metadata": {},
   "source": [
    "Коэффициенты очень близки друг к другу"
   ]
  },
  {
   "cell_type": "code",
   "execution_count": 374,
   "id": "c37f1924",
   "metadata": {},
   "outputs": [
    {
     "data": {
      "text/plain": [
       "(0.6617767515845644, 0.8924474113357951, -1.2560849797257243)"
      ]
     },
     "execution_count": 374,
     "metadata": {},
     "output_type": "execute_result"
    }
   ],
   "source": [
    "cov[1, 0] / cov[1, 1], cov[0, 2] / cov[1, 1], mean[0] - mean[1] * cov[1, 0] / cov[1, 1] - mean[2] * cov[0, 2] / cov[1, 1]"
   ]
  },
  {
   "cell_type": "code",
   "execution_count": 375,
   "id": "9afd88ed",
   "metadata": {},
   "outputs": [
    {
     "data": {
      "text/plain": [
       "'Коэффициенты модели: (2.8975292023495927, -1.3692697130859892, 1.6177859171101683)'"
      ]
     },
     "execution_count": 375,
     "metadata": {},
     "output_type": "execute_result"
    }
   ],
   "source": [
    "reg.fit(sample[:,[1, 2]], train_y)\n",
    "f\"Коэффициенты модели: {reg.intercept_, *reg.coef_}\""
   ]
  },
  {
   "cell_type": "markdown",
   "id": "e444e671",
   "metadata": {},
   "source": [
    "Истинные результаты совпадают с построенными, значит линейная модель была построена верно"
   ]
  },
  {
   "cell_type": "markdown",
   "id": "259c793f",
   "metadata": {},
   "source": [
    "**Решрессия без свободного члена**"
   ]
  },
  {
   "cell_type": "code",
   "execution_count": 376,
   "id": "f85c2827",
   "metadata": {},
   "outputs": [
    {
     "data": {
      "text/plain": [
       "'коэффициенты модели: (0.0, 1.853436172036656, -1.2705391847019107)'"
      ]
     },
     "execution_count": 376,
     "metadata": {},
     "output_type": "execute_result"
    }
   ],
   "source": [
    "reg = LinearRegression(fit_intercept=False)\n",
    "reg.fit(train_x, train_y)\n",
    "f\"коэффициенты модели: {reg.intercept_, *reg.coef_}\""
   ]
  },
  {
   "cell_type": "code",
   "execution_count": 377,
   "id": "f939488c",
   "metadata": {},
   "outputs": [
    {
     "name": "stdout",
     "output_type": "stream",
     "text": [
      "МО остатка:  -0.011643811751505338\n",
      "Дисперсия остатка:  0.2729743268772094\n"
     ]
    }
   ],
   "source": [
    "residuals = reg.predict(train_x) - train_y\n",
    "print(\"МО остатка: \", residuals.mean())\n",
    "print(\"Дисперсия остатка: \", residuals.var())"
   ]
  },
  {
   "cell_type": "code",
   "execution_count": 378,
   "id": "8d776a88",
   "metadata": {},
   "outputs": [
    {
     "data": {
      "text/plain": [
       "array([0.12457018])"
      ]
     },
     "execution_count": 378,
     "metadata": {},
     "output_type": "execute_result"
    }
   ],
   "source": [
    "mean_sqr_error(sample, test_object, reg)"
   ]
  },
  {
   "cell_type": "markdown",
   "id": "fcf1fc18",
   "metadata": {},
   "source": [
    "****Графики****"
   ]
  },
  {
   "cell_type": "code",
   "execution_count": 379,
   "id": "43e24ce2",
   "metadata": {},
   "outputs": [
    {
     "data": {
      "image/png": "[encoded data removed]",
      "text/plain": [
       "<Figure size 576x576 with 1 Axes>"
      ]
     },
     "metadata": {},
     "output_type": "display_data"
    }
   ],
   "source": [
    "plt.scatter(sample[:,0], sample[:,1])\n",
    "plt.xlabel(\"x1\")\n",
    "plt.ylabel(\"x2\")\n",
    "plt.show()"
   ]
  },
  {
   "cell_type": "code",
   "execution_count": 380,
   "id": "3d128eec",
   "metadata": {},
   "outputs": [],
   "source": [
    "reg = LinearRegression()\n",
    "reg.fit(sample[:,1].reshape(-1, 1), sample[:,0])\n",
    "grid_x2 = np.linspace(sample[:,1].min() - 1, sample[:,1].max() + 1, 100)\n",
    "predicted_x1 = reg.predict(grid_x2.reshape(-1, 1))"
   ]
  },
  {
   "cell_type": "code",
   "execution_count": 381,
   "id": "d9e1d032",
   "metadata": {},
   "outputs": [
    {
     "data": {
      "image/png": "[encoded data removed]",
      "text/plain": [
       "<Figure size 576x576 with 1 Axes>"
      ]
     },
     "metadata": {},
     "output_type": "display_data"
    }
   ],
   "source": [
    "plt.plot(predicted_x1, grid_x2, color=\"red\", linewidth=3)\n",
    "plt.scatter(sample[:,0], sample[:,1])\n",
    "plt.xlabel(\"x1\")\n",
    "plt.ylabel(\"x2\")\n",
    "plt.show()"
   ]
  },
  {
   "cell_type": "code",
   "execution_count": 382,
   "id": "27e10d7d",
   "metadata": {},
   "outputs": [
    {
     "data": {
      "image/png": "[encoded data removed]",
      "text/plain": [
       "<Figure size 576x576 with 1 Axes>"
      ]
     },
     "metadata": {},
     "output_type": "display_data"
    }
   ],
   "source": [
    "import numpy as np\n",
    "import statsmodels.api as sm\n",
    "import pylab as py\n",
    "   \n",
    "sm.qqplot(residuals, line ='45')\n",
    "py.show()"
   ]
  },
  {
   "cell_type": "markdown",
   "id": "7e25313e",
   "metadata": {},
   "source": [
    "**Хи-квадрат критерий Пирсона**"
   ]
  },
  {
   "cell_type": "code",
   "execution_count": 383,
   "id": "b98786a4",
   "metadata": {},
   "outputs": [],
   "source": [
    "import scipy.stats as stats"
   ]
  },
  {
   "cell_type": "code",
   "execution_count": 384,
   "id": "00f83d6a",
   "metadata": {},
   "outputs": [],
   "source": [
    "def chi_squared_test(sample, k):\n",
    "    beg = -6\n",
    "    end = 6\n",
    "    step = (end - beg) / k\n",
    "    sample_probs = [\n",
    "        sample[np.logical_and(sample >= beg + i * step,\n",
    "                              sample < beg + (i + 1) * step)].size / sample.size for i in range(k)]\n",
    "    expected_probs =\\\n",
    "    [stats.norm.cdf(beg + (i + 1) * step) - stats.norm.cdf(beg + i * step) for i in range(k)]\n",
    "    chi2 = 0\n",
    "    for i in range(k):\n",
    "        chi2 += (sample_probs[i] - expected_probs[i]) ** 2 / expected_probs[i]\n",
    "    chi2 *= sample.size\n",
    "    \n",
    "    return 1 - stats.chi2.cdf(chi2, k - 1)"
   ]
  },
  {
   "cell_type": "code",
   "execution_count": 385,
   "id": "46434dee",
   "metadata": {},
   "outputs": [],
   "source": [
    "def builtin_chi2(sample, k):\n",
    "    beg = -6\n",
    "    end = 6\n",
    "    step = (end - beg) / k\n",
    "    sample_probs = [\n",
    "        sample[np.logical_and(sample >= beg + i * step,\n",
    "                              sample < beg + (i + 1) * step)].size for i in range(k)]\n",
    "    expected_probs =\\\n",
    "    [sample.size * (stats.norm.cdf(beg + (i + 1) * step) - stats.norm.cdf(beg + i * step)) for i in range(k)]\n",
    "    return stats.chisquare(sample_probs, expected_probs)"
   ]
  },
  {
   "cell_type": "code",
   "execution_count": 386,
   "id": "45208a36",
   "metadata": {},
   "outputs": [
    {
     "data": {
      "text/plain": [
       "0.24486798310776525"
      ]
     },
     "execution_count": 386,
     "metadata": {},
     "output_type": "execute_result"
    }
   ],
   "source": [
    "chi_squared_test(residuals, 50)"
   ]
  },
  {
   "cell_type": "code",
   "execution_count": 387,
   "id": "7bf0d086",
   "metadata": {},
   "outputs": [
    {
     "data": {
      "text/plain": [
       "Power_divergenceResult(statistic=55.439834778980654, pvalue=0.24486798310776517)"
      ]
     },
     "execution_count": 387,
     "metadata": {},
     "output_type": "execute_result"
    }
   ],
   "source": [
    "builtin_chi2(residuals, 50)"
   ]
  },
  {
   "cell_type": "code",
   "execution_count": 388,
   "id": "1b8b4480",
   "metadata": {},
   "outputs": [
    {
     "name": "stdout",
     "output_type": "stream",
     "text": [
      "for k = 5 p-value = 0.0001485916362049533\n",
      "for k = 7 p-value = 9.002753220133108e-06\n",
      "for k = 8 p-value = 0.01686170597200476\n",
      "for k = 9 p-value = 6.506493122171442e-06\n",
      "for k = 10 p-value = 0.0031068618356272504\n",
      "for k = 11 p-value = 1.3714700231037824e-07\n",
      "for k = 12 p-value = 0.0002392677254916542\n",
      "for k = 13 p-value = 2.6146499581436444e-05\n",
      "for k = 14 p-value = 0.0005657056281843653\n",
      "for k = 15 p-value = 0.0004764407941240112\n",
      "for k = 16 p-value = 0.0008533126155129134\n",
      "for k = 17 p-value = 0.0009480268184792751\n",
      "for k = 18 p-value = 0.00016801136108168802\n",
      "for k = 19 p-value = 0.005436446563250041\n",
      "for k = 20 p-value = 5.23715136220293e-05\n",
      "for k = 21 p-value = 0.008098422633374236\n",
      "for k = 22 p-value = 1.4260413907729586e-05\n",
      "for k = 23 p-value = 0.00943538906290875\n",
      "for k = 24 p-value = 0.00038742758800125454\n",
      "for k = 25 p-value = 0.009512801107262048\n",
      "for k = 26 p-value = 0.0008204899922581443\n",
      "for k = 27 p-value = 0.00432847331913111\n",
      "for k = 28 p-value = 0.002569989773011705\n",
      "for k = 29 p-value = 0.0021117089647064713\n",
      "for k = 30 p-value = 0.010439858527925505\n",
      "for k = 31 p-value = 0.00042298635283422037\n",
      "for k = 32 p-value = 0.04373611994726312\n",
      "for k = 33 p-value = 0.0008444698457176214\n",
      "for k = 35 p-value = 0.002588076253606686\n",
      "for k = 37 p-value = 0.01745274380138051\n",
      "for k = 38 p-value = 0.04454274801982405\n",
      "for k = 39 p-value = 0.014922604107028836\n",
      "for k = 41 p-value = 0.011498134398520099\n",
      "for k = 42 p-value = 0.025898196167775778\n",
      "for k = 43 p-value = 0.04053405029949708\n",
      "for k = 44 p-value = 0.029017861273831103\n"
     ]
    }
   ],
   "source": [
    "for k in range(3, 51):\n",
    "    if (chi_squared_test(residuals, k) < 0.05):\n",
    "        print(f\"for k = {k} p-value = {chi_squared_test(residuals, k)}\")"
   ]
  },
  {
   "cell_type": "code",
   "execution_count": 362,
   "id": "7d65e7ca",
   "metadata": {},
   "outputs": [
    {
     "ename": "NameError",
     "evalue": "name 'sci' is not defined",
     "output_type": "error",
     "traceback": [
      "\u001b[0;31m---------------------------------------------------------------------------\u001b[0m",
      "\u001b[0;31mNameError\u001b[0m                                 Traceback (most recent call last)",
      "\u001b[0;32m<ipython-input-362-71b016ebcc4f>\u001b[0m in \u001b[0;36m<module>\u001b[0;34m\u001b[0m\n\u001b[0;32m----> 1\u001b[0;31m \u001b[0msci\u001b[0m\u001b[0;34m.\u001b[0m\u001b[0mkstest\u001b[0m\u001b[0;34m(\u001b[0m\u001b[0;36m50\u001b[0m\u001b[0;34m)\u001b[0m\u001b[0;34m\u001b[0m\u001b[0;34m\u001b[0m\u001b[0m\n\u001b[0m\u001b[1;32m      2\u001b[0m \u001b[0;34m\u001b[0m\u001b[0m\n",
      "\u001b[0;31mNameError\u001b[0m: name 'sci' is not defined"
     ]
    }
   ],
   "source": [
    "sci.kstest(50)\n",
    " "
   ]
  },
  {
   "cell_type": "code",
   "execution_count": null,
   "id": "527f8a05",
   "metadata": {},
   "outputs": [],
   "source": []
  }
 ],
 "metadata": {
  "kernelspec": {
   "display_name": "Python 3",
   "language": "python",
   "name": "python3"
  },
  "language_info": {
   "codemirror_mode": {
    "name": "ipython",
    "version": 3
   },
   "file_extension": ".py",
   "mimetype": "text/x-python",
   "name": "python",
   "nbconvert_exporter": "python",
   "pygments_lexer": "ipython3",
   "version": "3.8.8"
  }
 },
 "nbformat": 4,
 "nbformat_minor": 5
}
